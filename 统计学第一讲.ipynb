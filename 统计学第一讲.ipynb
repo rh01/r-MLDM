{
 "cells": [
  {
   "cell_type": "markdown",
   "metadata": {
    "collapsed": true,
    "deletable": true,
    "editable": true
   },
   "source": [
    "<hr></hr>\n",
    "<div class=\"alert alert-success alertsuccess\">\n",
    "<p></p>\n",
    "假说检定的五大步骤\n",
    "<p>\n",
    "<li> 设立虚无假说（**null** hypothesis  $H_0$)和对立假说（alternative hypothesis  $H_a$ or $H_1$）</li>\n",
    "<li> 指定显著水平（*level  of significiance* $ \\alpha$）</li>\n",
    "<li> 决定适当的检定统计量（test statistic）</li>\n",
    "<li> 决定弃却域（rejection region）</li>\n",
    "<li>下结论-<font style=\"color:purple\">推翻</font>虚无假说（reject $H_0$或<font style=\"color:purple\">不推翻</font>虚无假说（fail to reject $H_0$）并将结果按照提议引申</li>\n",
    "</div>"
   ]
  },
  {
   "cell_type": "markdown",
   "metadata": {
    "collapsed": true,
    "deletable": true,
    "editable": true
   },
   "source": [
    "<div class=\"alert alert-info alertinfo \">\n",
    " **假說**是关于一個或多個群體參數值的一段  <font style=\"color:red\">敘述</font>\n",
    "</div>"
   ]
  },
  {
   "cell_type": "markdown",
   "metadata": {
    "deletable": true,
    "editable": true
   },
   "source": [
    "<hr></hr>\n",
    "<div class=>\n",
    "設立假說假說又分以下兩種：\n",
    "\n",
    "對立假說 (Alternative Hypothesis , 퐇ퟏ(or퐇퐚)) 研究者想要蒐集證據支持之假說。虛無假說 (Null Hypothesis, 퐇ퟎ) 研究者所欲蒐集證據推翻的假說。虛無假說為對立假說的相反。\n",
    "</div>"
   ]
  },
  {
   "cell_type": "markdown",
   "metadata": {
    "deletable": true,
    "editable": true
   },
   "source": [
    "<div class=\"panel-group\">\n",
    "  <div class=\"panel  panel-primary\">\n",
    "    <div class=\"panel-body\">对立假说(Alternative Hypothesis $H_0$)</div>\n",
    "  </div>\n",
    "  <div class=\"panel  panel-primary\" >\n",
    "    <div class=\"panel-body\">Panel Content</div>\n",
    "  </div>\n",
    "</div>"
   ]
  },
  {
   "cell_type": "code",
   "execution_count": null,
   "metadata": {
    "collapsed": true,
    "deletable": true,
    "editable": true
   },
   "outputs": [],
   "source": []
  }
 ],
 "metadata": {
  "gist": {
   "data": {
    "description": "Untitled.ipynb",
    "public": true
   },
   "id": ""
  },
  "kernelspec": {
   "display_name": "R",
   "language": "R",
   "name": "ir"
  },
  "language_info": {
   "codemirror_mode": "r",
   "file_extension": ".r",
   "mimetype": "text/x-r-source",
   "name": "R",
   "pygments_lexer": "r",
   "version": "3.3.0"
  }
 },
 "nbformat": 4,
 "nbformat_minor": 2
}
